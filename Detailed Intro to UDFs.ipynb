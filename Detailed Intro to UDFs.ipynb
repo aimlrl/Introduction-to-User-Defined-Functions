{
 "cells": [
  {
   "cell_type": "code",
   "execution_count": 76,
   "metadata": {},
   "outputs": [],
   "source": [
    "l = [1,2]"
   ]
  },
  {
   "cell_type": "code",
   "execution_count": 48,
   "metadata": {},
   "outputs": [],
   "source": [
    "def even_odd_prime_sum(x):\n",
    "    \n",
    "    \"\"\"Takes a list of numbers as input\n",
    "    and returns the list of sum of all prime, \n",
    "    odd and even numbers\n",
    "    \n",
    "    Arguments: Collection of numbers (list)\n",
    "    Returns : Collection of numbers (list)\n",
    "    \n",
    "    \"\"\"\n",
    "    \n",
    "    even_sum = 0\n",
    "\n",
    "    prime_sum = 0\n",
    "\n",
    "    odd_sum = 0\n",
    "\n",
    "    for number in x:\n",
    "        \n",
    "        if number == 2 or number == 1:\n",
    "            \n",
    "            if number == 2:\n",
    "                \n",
    "                even_sum = even_sum + number\n",
    "            \n",
    "                prime_sum = prime_sum + number\n",
    "                \n",
    "            else:\n",
    "                \n",
    "                prime_sum = prime_sum + number\n",
    "\n",
    "        else : \n",
    "            \n",
    "            if number % 2 == 0:\n",
    "\n",
    "                even_sum = even_sum + number\n",
    "\n",
    "            else:\n",
    "\n",
    "                for divisor in range(2,number):\n",
    "\n",
    "                    if number % divisor == 0:\n",
    "\n",
    "                        odd_sum = odd_sum + number\n",
    "\n",
    "                        break\n",
    "\n",
    "                if divisor == (number-1):\n",
    "\n",
    "                    prime_sum = prime_sum + number\n",
    "\n",
    "    y = [even_sum,odd_sum,prime_sum]\n",
    "    \n",
    "    return y"
   ]
  },
  {
   "cell_type": "markdown",
   "metadata": {},
   "source": [
    "# The below line indicates function call"
   ]
  },
  {
   "cell_type": "code",
   "execution_count": 49,
   "metadata": {},
   "outputs": [],
   "source": [
    "y = even_odd_prime_sum(l)"
   ]
  },
  {
   "cell_type": "code",
   "execution_count": 50,
   "metadata": {},
   "outputs": [
    {
     "name": "stdout",
     "output_type": "stream",
     "text": [
      "[2, 0, 3]\n"
     ]
    }
   ],
   "source": [
    "print(y)"
   ]
  },
  {
   "cell_type": "markdown",
   "metadata": {},
   "source": [
    "# The Explanation which we are using to explain our function inside triple quotes is called Doc String"
   ]
  },
  {
   "cell_type": "markdown",
   "metadata": {},
   "source": [
    "# Now we are going to create a User Defined Function which will take a number an input and return \"prime\" or \"odd\" or \"even\" depending upon whether the number is prime, odd or even"
   ]
  },
  {
   "cell_type": "code",
   "execution_count": 77,
   "metadata": {},
   "outputs": [],
   "source": [
    "def determine_even_odd_prime(number):\n",
    "    \n",
    "    if number == 2 or number == 1:\n",
    "        if number == 2:\n",
    "            return [\"Prime\", \"Even\"]\n",
    "                \n",
    "        else:\n",
    "            return \"Prime\"\n",
    "\n",
    "    else : \n",
    "        if number % 2 == 0:\n",
    "            return \"Even\"\n",
    "\n",
    "        else:\n",
    "            for divisor in range(2,number):\n",
    "                \n",
    "                if number % divisor == 0:\n",
    "                    return \"Odd\"\n",
    "\n",
    "            if divisor == (number-1):\n",
    "                return \"Prime\""
   ]
  },
  {
   "cell_type": "code",
   "execution_count": 78,
   "metadata": {},
   "outputs": [],
   "source": [
    "def odd_even_prime_sum(l):\n",
    "\n",
    "    even_sum = 0    \n",
    "    odd_sum = 0\n",
    "    prime_sum = 0\n",
    "    \n",
    "    for number in l:\n",
    "        \n",
    "        y = determine_even_odd_prime(number)\n",
    "        \n",
    "        if y == \"Prime\":\n",
    "            prime_sum = prime_sum + number\n",
    "            \n",
    "        if y == \"Odd\":\n",
    "            odd_sum = odd_sum + number\n",
    "            \n",
    "        if y == 'Even':\n",
    "            even_sum = even_sum + number\n",
    "            \n",
    "        if y == [\"Prime\", \"Even\"]:\n",
    "            even_sum = even_sum + number\n",
    "            prime_sum = prime_sum + number\n",
    "            \n",
    "    z = [even_sum,odd_sum,prime_sum]\n",
    "    return z            "
   ]
  },
  {
   "cell_type": "code",
   "execution_count": 79,
   "metadata": {},
   "outputs": [],
   "source": [
    "answer = odd_even_prime_sum(l)"
   ]
  },
  {
   "cell_type": "code",
   "execution_count": 80,
   "metadata": {},
   "outputs": [
    {
     "data": {
      "text/plain": [
       "[2, 0, 3]"
      ]
     },
     "execution_count": 80,
     "metadata": {},
     "output_type": "execute_result"
    }
   ],
   "source": [
    "answer"
   ]
  },
  {
   "cell_type": "markdown",
   "metadata": {},
   "source": [
    "# Imagine that you have to write a program which accepts input as a list of 10 random integers and outputs dictionary of list of prime numbers being converted into hexadecimal numbers, all even numbers being converted into octal numbers (base-8) and all odd numbers being converted into base-20. "
   ]
  },
  {
   "cell_type": "markdown",
   "metadata": {},
   "source": [
    "# For Example, suppose the input to this program is the following list: \n",
    "\n",
    "# [23,17,54,19,66,15,90,61,70]\n",
    "\n",
    "# In this list, the prime numbers are:\n",
    "\n",
    "# [23,41,17,19,61]\n",
    "\n",
    "# Even numbers are:\n",
    "\n",
    "# [54,66,90,70]\n",
    "\n",
    "# Odd numbers are:\n",
    "\n",
    "# [23,41,17,19,15,67]\n",
    "\n",
    "# So, our program should provide us with the following output: \n",
    "\n",
    "# {'Prime' : [17,11,13,3D], 'Even' : [66,102,132,106], 'Odd': [13,21,H,J,F,37]}"
   ]
  },
  {
   "cell_type": "markdown",
   "metadata": {},
   "source": [
    "# Different Functions used to get our output:\n",
    "\n",
    "# A function to convert the number into Hexadecimal\n",
    "\n",
    "# A function to convert the number into Octal \n",
    "\n",
    "# A function to convert the number into Base-20\n",
    "\n",
    "# A function to determine that whether the number is prime or not\n",
    "\n",
    "# A function to determine that whether the number is even or not \n",
    "\n",
    "# A function to gather all the data and convert everything into dictionary and return our output\n"
   ]
  },
  {
   "cell_type": "code",
   "execution_count": 69,
   "metadata": {},
   "outputs": [],
   "source": [
    "def convert_to_hexa(number):\n",
    "    \n",
    "    hexa_number = hex(number)\n",
    "    return hexa_number"
   ]
  },
  {
   "cell_type": "code",
   "execution_count": 70,
   "metadata": {},
   "outputs": [],
   "source": [
    "def convert_to_octal(number):\n",
    "    \n",
    "    octal_number = oct(number)\n",
    "    return octal_number"
   ]
  },
  {
   "cell_type": "code",
   "execution_count": 71,
   "metadata": {},
   "outputs": [],
   "source": [
    "def convert_to_base_20(number):\n",
    "    \n",
    "    remainder2str = {10:'a',11:'b',12:'c',13:'d',14:'e',15:'f',16:'g',17:'h',18:'i',19:'j'}\n",
    "    base_20_equivalent = \"\"\n",
    "    \n",
    "    while number > 0:\n",
    "        \n",
    "        remainder = number % 20\n",
    "        if remainder > 9:\n",
    "            base_20_equivalent = base_20_equivalent + remainder2str[remainder]\n",
    "        else:\n",
    "            base_20_equivalent = base_20_equivalent + str(remainder)\n",
    "        number = number//20\n",
    "        \n",
    "    return base_20_equivalent[::-1]"
   ]
  },
  {
   "cell_type": "code",
   "execution_count": 72,
   "metadata": {},
   "outputs": [],
   "source": [
    "def determine_prime(number):\n",
    "    \n",
    "    if number == 1 or number == 2:\n",
    "        return True\n",
    "    else:\n",
    "        for divisor in range(2,number):\n",
    "            \n",
    "            if number % divisor == 0:\n",
    "                return False\n",
    "            \n",
    "        if divisor == (number-1):\n",
    "            return True"
   ]
  },
  {
   "cell_type": "code",
   "execution_count": 73,
   "metadata": {},
   "outputs": [],
   "source": [
    "def determine_even(number):\n",
    "    \n",
    "    if number % 2 == 0:\n",
    "        return True\n",
    "    else:\n",
    "        return False"
   ]
  },
  {
   "cell_type": "code",
   "execution_count": 74,
   "metadata": {},
   "outputs": [],
   "source": [
    "def determine_odd(number):\n",
    "    \n",
    "    if number % 2 != 0:\n",
    "        return True\n",
    "    else:\n",
    "        return False"
   ]
  },
  {
   "cell_type": "code",
   "execution_count": 75,
   "metadata": {},
   "outputs": [],
   "source": [
    "def determine_odd_and_prime(number):\n",
    "    \n",
    "    def determine_prime(number):\n",
    "            \n",
    "        for divisor in range(2,number):\n",
    "            \n",
    "            if number % divisor == 0:\n",
    "                \n",
    "                print(\"The number {} is only odd but not prime\".format(number))\n",
    "                \n",
    "                break\n",
    "                \n",
    "        if divisor == (number-1):\n",
    "            \n",
    "            print(\"The number {} is odd as well as prime\".format(number))\n",
    "            \n",
    "    if number % 2 != 0:\n",
    "        \n",
    "        determine_prime(number)\n",
    "        \n",
    "    else:\n",
    "        \n",
    "        print(\"The number {} is even\".format(number))"
   ]
  },
  {
   "cell_type": "code",
   "execution_count": 77,
   "metadata": {},
   "outputs": [
    {
     "name": "stdout",
     "output_type": "stream",
     "text": [
      "The number 49 is only odd but not prime\n"
     ]
    }
   ],
   "source": [
    "determine_odd_and_prime(49)"
   ]
  },
  {
   "cell_type": "code",
   "execution_count": 22,
   "metadata": {},
   "outputs": [],
   "source": [
    "def create_dictionary(hexa_list,octal_list,base20_list):\n",
    "    \n",
    "    return {\"Prime\":hexa_list,\"Even\":octal_list,\"Odd\":base20_list}"
   ]
  },
  {
   "cell_type": "code",
   "execution_count": 29,
   "metadata": {},
   "outputs": [],
   "source": [
    "l = [131,167,29,68]"
   ]
  },
  {
   "cell_type": "code",
   "execution_count": 32,
   "metadata": {},
   "outputs": [],
   "source": [
    "h_list = []\n",
    "o_list = []\n",
    "b20_list = []\n",
    "\n",
    "\n",
    "for number in l:\n",
    "    \n",
    "    if determine_even(number) == True:    \n",
    "        octal_equivalent = convert_to_octal(number)\n",
    "        o_list.append(octal_equivalent)\n",
    "    else:\n",
    "        base20_equivalent = convert_to_base_20(number)\n",
    "        b20_list.append(base20_equivalent)\n",
    "        \n",
    "        if determine_prime(number) == True:\n",
    "            hexa_equivalent = convert_to_hexa(number)\n",
    "            h_list.append(hexa_equivalent)\n",
    "            \n",
    "dictionary = create_dictionary(h_list,o_list,b20_list)"
   ]
  },
  {
   "cell_type": "code",
   "execution_count": 33,
   "metadata": {},
   "outputs": [
    {
     "name": "stdout",
     "output_type": "stream",
     "text": [
      "{'Prime': ['0x83', '0xa7', '0x1d'], 'Even': ['0o104'], 'Odd': ['6b', '87', '19']}\n"
     ]
    }
   ],
   "source": [
    "print(dictionary)"
   ]
  },
  {
   "cell_type": "code",
   "execution_count": 48,
   "metadata": {},
   "outputs": [],
   "source": [
    "l = [56,78,90,45,34,56,89,39,76,56,31,61]"
   ]
  },
  {
   "cell_type": "code",
   "execution_count": 53,
   "metadata": {},
   "outputs": [
    {
     "data": {
      "text/plain": [
       "[61, 31, 56, 76, 39, 89, 56, 34, 45, 90, 78, 56]"
      ]
     },
     "execution_count": 53,
     "metadata": {},
     "output_type": "execute_result"
    }
   ],
   "source": [
    "l[::-1]"
   ]
  },
  {
   "cell_type": "code",
   "execution_count": 54,
   "metadata": {},
   "outputs": [
    {
     "data": {
      "text/plain": [
       "12"
      ]
     },
     "execution_count": 54,
     "metadata": {},
     "output_type": "execute_result"
    }
   ],
   "source": [
    "len(l)"
   ]
  },
  {
   "cell_type": "code",
   "execution_count": 55,
   "metadata": {},
   "outputs": [],
   "source": [
    "s = \"Jaskirat\""
   ]
  },
  {
   "cell_type": "code",
   "execution_count": 56,
   "metadata": {},
   "outputs": [
    {
     "data": {
      "text/plain": [
       "8"
      ]
     },
     "execution_count": 56,
     "metadata": {},
     "output_type": "execute_result"
    }
   ],
   "source": [
    "len(s)"
   ]
  },
  {
   "cell_type": "code",
   "execution_count": 57,
   "metadata": {},
   "outputs": [
    {
     "data": {
      "text/plain": [
       "'askir'"
      ]
     },
     "execution_count": 57,
     "metadata": {},
     "output_type": "execute_result"
    }
   ],
   "source": [
    "s[1:6]"
   ]
  },
  {
   "cell_type": "code",
   "execution_count": 58,
   "metadata": {},
   "outputs": [
    {
     "data": {
      "text/plain": [
       "'tariksaJ'"
      ]
     },
     "execution_count": 58,
     "metadata": {},
     "output_type": "execute_result"
    }
   ],
   "source": [
    "s[::-1]"
   ]
  },
  {
   "cell_type": "code",
   "execution_count": null,
   "metadata": {},
   "outputs": [],
   "source": []
  },
  {
   "cell_type": "code",
   "execution_count": null,
   "metadata": {},
   "outputs": [],
   "source": []
  }
 ],
 "metadata": {
  "kernelspec": {
   "display_name": "Python 3",
   "language": "python",
   "name": "python3"
  },
  "language_info": {
   "codemirror_mode": {
    "name": "ipython",
    "version": 3
   },
   "file_extension": ".py",
   "mimetype": "text/x-python",
   "name": "python",
   "nbconvert_exporter": "python",
   "pygments_lexer": "ipython3",
   "version": "3.7.3"
  }
 },
 "nbformat": 4,
 "nbformat_minor": 2
}
